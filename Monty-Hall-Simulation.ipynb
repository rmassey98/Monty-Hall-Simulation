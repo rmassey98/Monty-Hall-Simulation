{
 "cells": [
  {
   "cell_type": "markdown",
   "id": "696f4165-f390-4ee5-84ab-5e1837f557cc",
   "metadata": {},
   "source": [
    "# Monty Hall Problem Simulation"
   ]
  },
  {
   "cell_type": "markdown",
   "id": "02593bfd-f82f-4095-9dd5-ca8f69ee0a16",
   "metadata": {},
   "source": [
    "The Monty Hall problem is a perplexing puzzle loosely inspired by the game show Let's Make a Deal and named after its original host, Monty Hall. This puzzle has garnered considerable attention due to its seemingly paradoxical solution.\" This notebook primarily aims to demonstrate the validity of the seemingly counterintuitive solution and subsequently, by extending the problem to involve more doors, foster an intuitive understanding of this concept."
   ]
  },
  {
   "cell_type": "markdown",
   "id": "815d3f1b-e2b7-40f4-90a4-9536c5d78dce",
   "metadata": {},
   "source": [
    "### The Problem\n",
    "\n",
    "Suppose you are a contestant in a gameshow and given the choice of three doors. Behind one of the doors is a car; behind each of the other doors is a goat. Your objective is to pick the door with the car behind it, making you the winner of the game and the proud owner of a shiny new car. You make a selection, say door No. 1, and the host, who knows what is behind the doors, opens another door, say No.3, revealing a goat. The host asks, \"Do you want to switch to the other closed door?\". The question of interest is, \"Is it advantageous to switch your choice?\"."
   ]
  },
  {
   "cell_type": "code",
   "execution_count": 1,
   "id": "1beec343-88fe-4e81-8f2f-b187b6023b35",
   "metadata": {},
   "outputs": [],
   "source": [
    "import random"
   ]
  },
  {
   "cell_type": "code",
   "execution_count": 2,
   "id": "ba17707f-c6c8-4a77-81d6-0a2dfa123be3",
   "metadata": {},
   "outputs": [],
   "source": [
    "def play_monty_hall_game(n_doors, switching=True):\n",
    "    \"\"\"\n",
    "    Simulate the Monty Hall game with the given number of doors.\n",
    "\n",
    "    Parameters:\n",
    "    - n_doors (int): The number of doors in the game.\n",
    "    - switching (bool, optional): Whether the player switches doors after the initial choice. Default is True.\n",
    "\n",
    "    Returns:\n",
    "    - str: \"Win\" if the player wins, \"Loss\" if the player loses.\n",
    "    \"\"\"\n",
    "    # Creating and shuffling the game space (what is behind each door)\n",
    "    gamespace = [\"Car\"] + (n_doors - 1) * [\"Goat\"]\n",
    "    random.shuffle(gamespace)\n",
    "    \n",
    "    # Simulating the player's initial choice\n",
    "    choice_idx = random.randint(0, n_doors - 1)\n",
    "\n",
    "    # Logic for switching strategy\n",
    "    if switching:\n",
    "        if gamespace[choice_idx] == \"Car\":\n",
    "            # If the initial choice is a car and you switch, you are guaranteed to switch to a goat.\n",
    "            return \"Loss\" \n",
    "        else:\n",
    "            # If the initial choice is a goat, other doors with goats are opened, leaving only the door with a car behind.\n",
    "            return \"Win\"\n",
    "\n",
    "    # Logic if not switching\n",
    "    else:\n",
    "        if gamespace[choice_idx] == \"Car\":\n",
    "            return \"Win\"\n",
    "        else:\n",
    "            return \"Loss\""
   ]
  }
 ],
 "metadata": {
  "kernelspec": {
   "display_name": "monty_hall",
   "language": "python",
   "name": "monty_hall"
  },
  "language_info": {
   "codemirror_mode": {
    "name": "ipython",
    "version": 3
   },
   "file_extension": ".py",
   "mimetype": "text/x-python",
   "name": "python",
   "nbconvert_exporter": "python",
   "pygments_lexer": "ipython3",
   "version": "3.11.5"
  }
 },
 "nbformat": 4,
 "nbformat_minor": 5
}
