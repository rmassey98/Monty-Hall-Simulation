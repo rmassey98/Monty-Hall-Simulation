{
 "cells": [
  {
   "cell_type": "markdown",
   "id": "696f4165-f390-4ee5-84ab-5e1837f557cc",
   "metadata": {},
   "source": [
    "# Monty Hall Problem Simulation"
   ]
  },
  {
   "cell_type": "markdown",
   "id": "02593bfd-f82f-4095-9dd5-ca8f69ee0a16",
   "metadata": {},
   "source": [
    "The Monty Hall problem is a perplexing puzzle loosely inspired by the game show Let's Make a Deal and named after its original host, Monty Hall. This puzzle has garnered considerable attention due to its seemingly paradoxical solution.\" This notebook primarily aims to demonstrate the validity of the seemingly counterintuitive solution and subsequently, by extending the problem to involve more doors, foster an intuitive understanding of this concept."
   ]
  },
  {
   "cell_type": "markdown",
   "id": "815d3f1b-e2b7-40f4-90a4-9536c5d78dce",
   "metadata": {},
   "source": [
    "### The Problem\n",
    "\n",
    "Suppose you are a contestant in a gameshow and given the choice of three doors. Behind one of the doors is a car; behind each of the other doors is a goat. Your objective is to pick the door with the car behind it, making you the winner of the game and the proud owner of a shiny new car. You make a selection, say door No. 1, and the host, who knows what is behind the doors, opens another door, say No.3, revealing a goat. The host asks, \"Do you want to switch to the other closed door?\". The question of interest is, \"Is it advantageous to switch your choice?\". To best illustrate the answer, I aim to code in a way that is true to the game. There are shortcuts that will improve the computational efficiency, but my aim is to inform rather than create an efficient program."
   ]
  },
  {
   "cell_type": "code",
   "execution_count": 6,
   "id": "ef34f811-7e4f-47d4-bc57-be6a8b93243f",
   "metadata": {},
   "outputs": [],
   "source": [
    "import random"
   ]
  }
 ],
 "metadata": {
  "kernelspec": {
   "display_name": "monty_hall",
   "language": "python",
   "name": "monty_hall"
  },
  "language_info": {
   "codemirror_mode": {
    "name": "ipython",
    "version": 3
   },
   "file_extension": ".py",
   "mimetype": "text/x-python",
   "name": "python",
   "nbconvert_exporter": "python",
   "pygments_lexer": "ipython3",
   "version": "3.11.5"
  }
 },
 "nbformat": 4,
 "nbformat_minor": 5
}
